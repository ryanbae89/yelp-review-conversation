{
 "cells": [
  {
   "attachments": {},
   "cell_type": "markdown",
   "metadata": {},
   "source": [
    "# Yelp Reviews Question and Answer Bot Example"
   ]
  },
  {
   "cell_type": "code",
   "execution_count": 12,
   "metadata": {},
   "outputs": [
    {
     "data": {
      "text/plain": [
       "<module 'QuestionAnswerBot' from '/mnt/e/Projects/GitHubRepos/yelp-review-conversation/QuestionAnswerBot.py'>"
      ]
     },
     "execution_count": 12,
     "metadata": {},
     "output_type": "execute_result"
    }
   ],
   "source": [
    "import os\n",
    "import yaml\n",
    "import importlib\n",
    "import openai\n",
    "\n",
    "import QuestionAnswerBot \n",
    "importlib.reload(QuestionAnswerBot)"
   ]
  },
  {
   "cell_type": "code",
   "execution_count": 13,
   "metadata": {},
   "outputs": [],
   "source": [
    "# load config file\n",
    "with open('config.yml', 'r') as file:\n",
    "    config = yaml.safe_load(file)"
   ]
  },
  {
   "cell_type": "code",
   "execution_count": 14,
   "metadata": {},
   "outputs": [],
   "source": [
    "# instantiate the downloader class\n",
    "downloader = QuestionAnswerBot.ReviewsProcessor(engine=config[\"ENGINE\"], \n",
    "                                                serp_api_key=config[\"SERP_API_KEY\"],\n",
    "                                                openai_api_key=config[\"OPENAI_API_KEY\"],\n",
    "                                                place_id=config[\"PLACE_ID\"])"
   ]
  },
  {
   "cell_type": "code",
   "execution_count": 10,
   "metadata": {},
   "outputs": [
    {
     "name": "stdout",
     "output_type": "stream",
     "text": [
      "https://serpapi.com/search\n",
      "Saved downloaded reviews to ./data/reviews/.\n"
     ]
    }
   ],
   "source": [
    "# download the data\n",
    "downloader.download_reviews(0, config[\"N_REVIEWS\"])\n",
    "\n",
    "# save the reviews \n",
    "downloader.save_reviews(config[\"REVIEWS_PATH\"])"
   ]
  },
  {
   "cell_type": "code",
   "execution_count": 11,
   "metadata": {},
   "outputs": [
    {
     "ename": "KeyboardInterrupt",
     "evalue": "",
     "output_type": "error",
     "traceback": [
      "\u001b[0;31m---------------------------------------------------------------------------\u001b[0m",
      "\u001b[0;31mKeyboardInterrupt\u001b[0m                         Traceback (most recent call last)",
      "Cell \u001b[0;32mIn[11], line 2\u001b[0m\n\u001b[1;32m      1\u001b[0m \u001b[39m# compute embeddings \u001b[39;00m\n\u001b[0;32m----> 2\u001b[0m downloader\u001b[39m.\u001b[39;49mcompute_doc_embeddings()\n\u001b[1;32m      4\u001b[0m \u001b[39m# save embeddings\u001b[39;00m\n\u001b[1;32m      5\u001b[0m downloader\u001b[39m.\u001b[39msave_embeddings(config[\u001b[39m\"\u001b[39m\u001b[39mEMBEDDINGS_PATH\u001b[39m\u001b[39m\"\u001b[39m])\n",
      "File \u001b[0;32m/mnt/e/Projects/GitHubRepos/yelp-review-conversation/QuestionAnswerBot.py:84\u001b[0m, in \u001b[0;36mReviewsProcessor.compute_doc_embeddings\u001b[0;34m(self)\u001b[0m\n\u001b[1;32m     78\u001b[0m \u001b[39mdef\u001b[39;00m \u001b[39mcompute_doc_embeddings\u001b[39m(\u001b[39mself\u001b[39m):\n\u001b[1;32m     79\u001b[0m \u001b[39m    \u001b[39m\u001b[39m\"\"\"\u001b[39;00m\n\u001b[1;32m     80\u001b[0m \u001b[39m    Create an embedding for each row in the dataframe using the OpenAI Embeddings API.\u001b[39;00m\n\u001b[1;32m     81\u001b[0m \u001b[39m    \u001b[39;00m\n\u001b[1;32m     82\u001b[0m \u001b[39m    Return a dictionary that maps between each embedding vector and the index of the row that it corresponds to.\u001b[39;00m\n\u001b[1;32m     83\u001b[0m \u001b[39m    \"\"\"\u001b[39;00m\n\u001b[0;32m---> 84\u001b[0m     \u001b[39mself\u001b[39m\u001b[39m.\u001b[39membeddings \u001b[39m=\u001b[39m {\n\u001b[1;32m     85\u001b[0m         idx: \u001b[39mself\u001b[39m\u001b[39m.\u001b[39mget_doc_embedding(\u001b[39mself\u001b[39m\u001b[39m.\u001b[39mreviews[idx][\u001b[39m\"\u001b[39m\u001b[39mcomment\u001b[39m\u001b[39m\"\u001b[39m]\u001b[39m.\u001b[39mreplace(\u001b[39m\"\u001b[39m\u001b[39m\\n\u001b[39;00m\u001b[39m\"\u001b[39m, \u001b[39m\"\u001b[39m\u001b[39m \u001b[39m\u001b[39m\"\u001b[39m)) \u001b[39mfor\u001b[39;00m idx \u001b[39min\u001b[39;00m \u001b[39mself\u001b[39m\u001b[39m.\u001b[39mreviews\n\u001b[1;32m     86\u001b[0m     }\n",
      "File \u001b[0;32m/mnt/e/Projects/GitHubRepos/yelp-review-conversation/QuestionAnswerBot.py:85\u001b[0m, in \u001b[0;36m<dictcomp>\u001b[0;34m(.0)\u001b[0m\n\u001b[1;32m     78\u001b[0m \u001b[39mdef\u001b[39;00m \u001b[39mcompute_doc_embeddings\u001b[39m(\u001b[39mself\u001b[39m):\n\u001b[1;32m     79\u001b[0m \u001b[39m    \u001b[39m\u001b[39m\"\"\"\u001b[39;00m\n\u001b[1;32m     80\u001b[0m \u001b[39m    Create an embedding for each row in the dataframe using the OpenAI Embeddings API.\u001b[39;00m\n\u001b[1;32m     81\u001b[0m \u001b[39m    \u001b[39;00m\n\u001b[1;32m     82\u001b[0m \u001b[39m    Return a dictionary that maps between each embedding vector and the index of the row that it corresponds to.\u001b[39;00m\n\u001b[1;32m     83\u001b[0m \u001b[39m    \"\"\"\u001b[39;00m\n\u001b[1;32m     84\u001b[0m     \u001b[39mself\u001b[39m\u001b[39m.\u001b[39membeddings \u001b[39m=\u001b[39m {\n\u001b[0;32m---> 85\u001b[0m         idx: \u001b[39mself\u001b[39;49m\u001b[39m.\u001b[39;49mget_doc_embedding(\u001b[39mself\u001b[39;49m\u001b[39m.\u001b[39;49mreviews[idx][\u001b[39m\"\u001b[39;49m\u001b[39mcomment\u001b[39;49m\u001b[39m\"\u001b[39;49m]\u001b[39m.\u001b[39;49mreplace(\u001b[39m\"\u001b[39;49m\u001b[39m\\n\u001b[39;49;00m\u001b[39m\"\u001b[39;49m, \u001b[39m\"\u001b[39;49m\u001b[39m \u001b[39;49m\u001b[39m\"\u001b[39;49m)) \u001b[39mfor\u001b[39;00m idx \u001b[39min\u001b[39;00m \u001b[39mself\u001b[39m\u001b[39m.\u001b[39mreviews\n\u001b[1;32m     86\u001b[0m     }\n",
      "File \u001b[0;32m/mnt/e/Projects/GitHubRepos/yelp-review-conversation/QuestionAnswerBot.py:89\u001b[0m, in \u001b[0;36mReviewsProcessor.get_doc_embedding\u001b[0;34m(self, text)\u001b[0m\n\u001b[1;32m     88\u001b[0m \u001b[39mdef\u001b[39;00m \u001b[39mget_doc_embedding\u001b[39m(\u001b[39mself\u001b[39m, text: \u001b[39mstr\u001b[39m) \u001b[39m-\u001b[39m\u001b[39m>\u001b[39m \u001b[39mlist\u001b[39m[\u001b[39mfloat\u001b[39m]:\n\u001b[0;32m---> 89\u001b[0m     \u001b[39mreturn\u001b[39;00m \u001b[39mself\u001b[39;49m\u001b[39m.\u001b[39;49mget_embedding(text, \u001b[39mself\u001b[39;49m\u001b[39m.\u001b[39;49membedding_model)\n",
      "File \u001b[0;32m~/anaconda2/envs/py39/lib/python3.9/site-packages/tenacity/__init__.py:326\u001b[0m, in \u001b[0;36mBaseRetrying.wraps.<locals>.wrapped_f\u001b[0;34m(*args, **kw)\u001b[0m\n\u001b[1;32m    324\u001b[0m \u001b[39m@functools\u001b[39m\u001b[39m.\u001b[39mwraps(f)\n\u001b[1;32m    325\u001b[0m \u001b[39mdef\u001b[39;00m \u001b[39mwrapped_f\u001b[39m(\u001b[39m*\u001b[39margs: t\u001b[39m.\u001b[39mAny, \u001b[39m*\u001b[39m\u001b[39m*\u001b[39mkw: t\u001b[39m.\u001b[39mAny) \u001b[39m-\u001b[39m\u001b[39m>\u001b[39m t\u001b[39m.\u001b[39mAny:\n\u001b[0;32m--> 326\u001b[0m     \u001b[39mreturn\u001b[39;00m \u001b[39mself\u001b[39;49m(f, \u001b[39m*\u001b[39;49margs, \u001b[39m*\u001b[39;49m\u001b[39m*\u001b[39;49mkw)\n",
      "File \u001b[0;32m~/anaconda2/envs/py39/lib/python3.9/site-packages/tenacity/__init__.py:416\u001b[0m, in \u001b[0;36mRetrying.__call__\u001b[0;34m(self, fn, *args, **kwargs)\u001b[0m\n\u001b[1;32m    414\u001b[0m \u001b[39melif\u001b[39;00m \u001b[39misinstance\u001b[39m(do, DoSleep):\n\u001b[1;32m    415\u001b[0m     retry_state\u001b[39m.\u001b[39mprepare_for_next_attempt()\n\u001b[0;32m--> 416\u001b[0m     \u001b[39mself\u001b[39;49m\u001b[39m.\u001b[39;49msleep(do)\n\u001b[1;32m    417\u001b[0m \u001b[39melse\u001b[39;00m:\n\u001b[1;32m    418\u001b[0m     \u001b[39mreturn\u001b[39;00m do\n",
      "File \u001b[0;32m~/anaconda2/envs/py39/lib/python3.9/site-packages/tenacity/nap.py:31\u001b[0m, in \u001b[0;36msleep\u001b[0;34m(seconds)\u001b[0m\n\u001b[1;32m     25\u001b[0m \u001b[39mdef\u001b[39;00m \u001b[39msleep\u001b[39m(seconds: \u001b[39mfloat\u001b[39m) \u001b[39m-\u001b[39m\u001b[39m>\u001b[39m \u001b[39mNone\u001b[39;00m:\n\u001b[1;32m     26\u001b[0m \u001b[39m    \u001b[39m\u001b[39m\"\"\"\u001b[39;00m\n\u001b[1;32m     27\u001b[0m \u001b[39m    Sleep strategy that delays execution for a given number of seconds.\u001b[39;00m\n\u001b[1;32m     28\u001b[0m \n\u001b[1;32m     29\u001b[0m \u001b[39m    This is the default strategy, and may be mocked out for unit testing.\u001b[39;00m\n\u001b[1;32m     30\u001b[0m \u001b[39m    \"\"\"\u001b[39;00m\n\u001b[0;32m---> 31\u001b[0m     time\u001b[39m.\u001b[39;49msleep(seconds)\n",
      "\u001b[0;31mKeyboardInterrupt\u001b[0m: "
     ]
    }
   ],
   "source": [
    "# compute embeddings \n",
    "downloader.compute_doc_embeddings()\n",
    "\n",
    "# save embeddings\n",
    "downloader.save_embeddings(config[\"EMBEDDINGS_PATH\"])"
   ]
  },
  {
   "cell_type": "code",
   "execution_count": null,
   "metadata": {},
   "outputs": [],
   "source": [
    "# instantiate QuestionAnswerBot class\n",
    "qabot = QuestionAnswerBot.Query(place_id=config[\"PLACE_ID\"])\n",
    "\n",
    "# specify data paths and load data into the class\n",
    "embedding_path = os.path.join(config[\"EMBEDDINGS_PATH\"], f\"{config['PLACE_ID']}_embeddings.json\")\n",
    "review_path = os.path.join(config[\"REVIEWS_PATH\"], f\"{config['PLACE_ID']}_reviews.json\")\n",
    "\n",
    "qabot.load_data(embedding_path=embedding_path, review_path=review_path)"
   ]
  },
  {
   "cell_type": "code",
   "execution_count": null,
   "metadata": {},
   "outputs": [],
   "source": [
    "# ask questions of the Yelp review dataset!\n",
    "query = \"How is the restaurant atmosphere?\"\n",
    "\n",
    "qabot.answer_query(query, show_prompt=True)"
   ]
  }
 ],
 "metadata": {
  "kernelspec": {
   "display_name": "py39",
   "language": "python",
   "name": "python3"
  },
  "language_info": {
   "codemirror_mode": {
    "name": "ipython",
    "version": 3
   },
   "file_extension": ".py",
   "mimetype": "text/x-python",
   "name": "python",
   "nbconvert_exporter": "python",
   "pygments_lexer": "ipython3",
   "version": "3.9.12"
  },
  "orig_nbformat": 4,
  "vscode": {
   "interpreter": {
    "hash": "666acd23ee85b3ff314cec40c025c9239f54664ff8268b70c987cd5a85f68841"
   }
  }
 },
 "nbformat": 4,
 "nbformat_minor": 2
}
