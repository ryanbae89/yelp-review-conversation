{
 "cells": [
  {
   "attachments": {},
   "cell_type": "markdown",
   "metadata": {},
   "source": [
    "# Yelp Reviews Question and Answer Bot Example"
   ]
  },
  {
   "cell_type": "code",
   "execution_count": null,
   "metadata": {},
   "outputs": [],
   "source": [
    "import os\n",
    "import yaml\n",
    "import importlib\n",
    "import openai\n",
    "\n",
    "import QuestionAnswerBot \n",
    "importlib.reload(QuestionAnswerBot)"
   ]
  },
  {
   "cell_type": "code",
   "execution_count": null,
   "metadata": {},
   "outputs": [],
   "source": [
    "# load config file\n",
    "with open('config.yml', 'r') as file:\n",
    "    config = yaml.safe_load(file)"
   ]
  },
  {
   "cell_type": "code",
   "execution_count": null,
   "metadata": {},
   "outputs": [],
   "source": [
    "# instantiate the downloader class\n",
    "downloader = QuestionAnswerBot.ReviewsProcessor(engine=config[\"ENGINE\"], \n",
    "                                                serp_api_key=config[\"SERP_API_KEY\"],\n",
    "                                                openai_api_key=config[\"OPENAI_API_KEY\"],\n",
    "                                                place_id=config[\"PLACE_ID\"])"
   ]
  },
  {
   "cell_type": "code",
   "execution_count": null,
   "metadata": {},
   "outputs": [],
   "source": [
    "# download the data\n",
    "downloader.download_reviews(0, 10)\n",
    "\n",
    "# save the reviews \n",
    "downloader.save_reviews(config[\"REVIEWS_PATH\"])"
   ]
  },
  {
   "cell_type": "code",
   "execution_count": null,
   "metadata": {},
   "outputs": [],
   "source": [
    "# compute embeddings \n",
    "downloader.compute_doc_embeddings()\n",
    "\n",
    "# save embeddings\n",
    "downloader.save_embeddings(config[\"EMBEDDINGS_PATH\"])"
   ]
  },
  {
   "cell_type": "code",
   "execution_count": null,
   "metadata": {},
   "outputs": [],
   "source": [
    "# instantiate QuestionAnswerBot class\n",
    "qabot = QuestionAnswerBot.Query(place_id=config[\"PLACE_ID\"])\n",
    "\n",
    "# specify data paths and load data into the class\n",
    "embedding_path = os.path.join(config[\"EMBEDDINGS_PATH\"], f\"{config['PLACE_ID']}_embeddings.json\")\n",
    "review_path = os.path.join(config[\"REVIEWS_PATH\"], f\"{config['PLACE_ID']}_reviews.json\")\n",
    "\n",
    "qabot.load_data(embedding_path=embedding_path, review_path=review_path)"
   ]
  },
  {
   "cell_type": "code",
   "execution_count": null,
   "metadata": {},
   "outputs": [],
   "source": [
    "# ask questions of the Yelp review dataset!\n",
    "query = \"How is the restaurant atmosphere?\"\n",
    "\n",
    "qabot.answer_query(query, show_prompt=True)"
   ]
  }
 ],
 "metadata": {
  "kernelspec": {
   "display_name": "py39",
   "language": "python",
   "name": "python3"
  },
  "language_info": {
   "codemirror_mode": {
    "name": "ipython",
    "version": 3
   },
   "file_extension": ".py",
   "mimetype": "text/x-python",
   "name": "python",
   "nbconvert_exporter": "python",
   "pygments_lexer": "ipython3",
   "version": "3.9.12"
  },
  "orig_nbformat": 4,
  "vscode": {
   "interpreter": {
    "hash": "666acd23ee85b3ff314cec40c025c9239f54664ff8268b70c987cd5a85f68841"
   }
  }
 },
 "nbformat": 4,
 "nbformat_minor": 2
}
