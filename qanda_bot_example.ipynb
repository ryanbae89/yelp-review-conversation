{
 "cells": [
  {
   "attachments": {},
   "cell_type": "markdown",
   "metadata": {},
   "source": [
    "# Yelp Reviews Question and Answer Bot Example"
   ]
  },
  {
   "cell_type": "code",
   "execution_count": 33,
   "metadata": {},
   "outputs": [
    {
     "data": {
      "text/plain": [
       "<module 'QuestionAnswerBot' from '/mnt/e/Projects/GitHubRepos/yelp-review-conversation/QuestionAnswerBot.py'>"
      ]
     },
     "execution_count": 33,
     "metadata": {},
     "output_type": "execute_result"
    }
   ],
   "source": [
    "import os\n",
    "import yaml\n",
    "import importlib\n",
    "import openai\n",
    "\n",
    "import QuestionAnswerBot \n",
    "importlib.reload(QuestionAnswerBot)"
   ]
  },
  {
   "cell_type": "code",
   "execution_count": 34,
   "metadata": {},
   "outputs": [],
   "source": [
    "# load config file\n",
    "with open('config.yml', 'r') as file:\n",
    "    config = yaml.safe_load(file)\n",
    "\n",
    "openai.api_key = config[\"OPENAI_API_KEY\"]"
   ]
  },
  {
   "cell_type": "code",
   "execution_count": 35,
   "metadata": {},
   "outputs": [],
   "source": [
    "# instantiate the downloader class\n",
    "downloader = QuestionAnswerBot.ReviewsProcessor(engine=config[\"ENGINE\"], \n",
    "                                                serp_api_key=config[\"SERP_API_KEY\"],\n",
    "                                                openai_api_key=config[\"OPENAI_API_KEY\"],\n",
    "                                                place_id=config[\"PLACE_ID\"])"
   ]
  },
  {
   "cell_type": "code",
   "execution_count": 36,
   "metadata": {},
   "outputs": [
    {
     "name": "stdout",
     "output_type": "stream",
     "text": [
      "https://serpapi.com/search\n",
      "Saved downloaded reviews to ./data/reviews/.\n"
     ]
    }
   ],
   "source": [
    "# download the data\n",
    "downloader.download_reviews(0, config[\"N_REVIEWS\"])\n",
    "\n",
    "# save the reviews \n",
    "downloader.save_reviews(config[\"REVIEWS_PATH\"])"
   ]
  },
  {
   "cell_type": "code",
   "execution_count": 37,
   "metadata": {},
   "outputs": [
    {
     "name": "stdout",
     "output_type": "stream",
     "text": [
      "Computed doc embeddings.\n",
      "Saved downloaded reviews to ./data/embeddings/.\n"
     ]
    }
   ],
   "source": [
    "# compute embeddings \n",
    "downloader.compute_doc_embeddings()\n",
    "\n",
    "# save embeddings\n",
    "downloader.save_embeddings(config[\"EMBEDDINGS_PATH\"])"
   ]
  },
  {
   "cell_type": "code",
   "execution_count": 38,
   "metadata": {},
   "outputs": [
    {
     "name": "stdout",
     "output_type": "stream",
     "text": [
      "Loaded 10 embeddings.\n",
      "Loaded 10 reviews.\n"
     ]
    }
   ],
   "source": [
    "# instantiate QuestionAnswerBot class\n",
    "qabot = QuestionAnswerBot.Query(place_id=config[\"PLACE_ID\"])\n",
    "\n",
    "# specify data paths and load data into the class\n",
    "embedding_path = os.path.join(config[\"EMBEDDINGS_PATH\"], f\"{config['PLACE_ID']}_embeddings.json\")\n",
    "review_path = os.path.join(config[\"REVIEWS_PATH\"], f\"{config['PLACE_ID']}_reviews.json\")\n",
    "\n",
    "qabot.load_data(embedding_path=embedding_path, review_path=review_path)"
   ]
  },
  {
   "cell_type": "code",
   "execution_count": 39,
   "metadata": {},
   "outputs": [
    {
     "name": "stdout",
     "output_type": "stream",
     "text": [
      "Selected 6 document sections:\n",
      "2\n",
      "3\n",
      "0\n",
      "5\n",
      "8\n",
      "1\n",
      "Answer the question as truthfully as possible using the provided context, and if the answer is not contained within the text below, say \"I don't know.\"\n",
      "\n",
      "Context:\n",
      "\n",
      "* Excellent atmosphere and great food.  The hamachi carpaccio was our favorite. Friendly and fast service!\n",
      "* One of my favorite sushi places. Good food, nice environment and wonderful service. They even let you switch to another table if they have one available in a quieter spot.\n",
      "* It was a pretty standard sushi restaurant but kind of pricy. Food was good but nothing special for the price.\n",
      "* Quality of sushi rolls has definitely gone downhill over the past few years. This used to be a great choice for birthdays, however, no one at our table was impressed. Drinks were watered down and tasted as if there was only a drop of liquor in each, tempura rolls were \"mushy\" as 3 of our guests mentioned and unfortunately, we were seated in the back next to an emergency exit with seats that were worn out and ripping. Definitely not the upscale feeling I remember from years ago.Sadly, I think this is it for me with Wasabi.On a positive note, our server, Danielle, was amazing and incredibly friendly!\n",
      "* The place wasn't crowded, maybe because we came here on a cold Monday evening. We got gyoza for appetizer, and white lion and jalapeno papa sushis. Both the sushis were great but we especially loved the white lion (I can recommend this to everyone). The crispy onion and garlic on top added a very interesting flavor. They will also give you fresh wasabi if you ask for it which is milder but not sure if it's real wasabi or still the horseradish version.\n",
      "* Held my bday celebration there and it was delish! We were able to get a large room but we did have to get reservations in advance. The hibiscus cocktail was amazing and their Hamachi carpaccio melts in your mouth! Highly recommend!\n",
      "\n",
      " Q: How is the restaurant atmosphere?\n",
      " A:\n"
     ]
    },
    {
     "data": {
      "text/plain": [
       "'The restaurant atmosphere is excellent with friendly and fast service. It is a nice environment and the restaurant is not usually crowded.'"
      ]
     },
     "execution_count": 39,
     "metadata": {},
     "output_type": "execute_result"
    }
   ],
   "source": [
    "# ask questions of the Yelp review dataset!\n",
    "query = \"How is the restaurant atmosphere?\"\n",
    "\n",
    "qabot.answer_query(query, show_prompt=True)"
   ]
  },
  {
   "cell_type": "code",
   "execution_count": null,
   "metadata": {},
   "outputs": [],
   "source": []
  }
 ],
 "metadata": {
  "kernelspec": {
   "display_name": "py39",
   "language": "python",
   "name": "python3"
  },
  "language_info": {
   "codemirror_mode": {
    "name": "ipython",
    "version": 3
   },
   "file_extension": ".py",
   "mimetype": "text/x-python",
   "name": "python",
   "nbconvert_exporter": "python",
   "pygments_lexer": "ipython3",
   "version": "3.9.12"
  },
  "orig_nbformat": 4,
  "vscode": {
   "interpreter": {
    "hash": "666acd23ee85b3ff314cec40c025c9239f54664ff8268b70c987cd5a85f68841"
   }
  }
 },
 "nbformat": 4,
 "nbformat_minor": 2
}
